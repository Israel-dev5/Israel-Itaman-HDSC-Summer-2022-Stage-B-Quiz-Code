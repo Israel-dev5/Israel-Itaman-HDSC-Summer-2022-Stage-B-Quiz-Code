{
 "cells": [
  {
   "cell_type": "code",
   "execution_count": 1,
   "id": "904ed8d4",
   "metadata": {},
   "outputs": [],
   "source": [
    "import pandas as pd\n",
    "import numpy as np\n",
    "import matplotlib.pyplot as plt\n",
    "import seaborn as sns"
   ]
  },
  {
   "cell_type": "code",
   "execution_count": 2,
   "id": "ed7fdae3",
   "metadata": {},
   "outputs": [
    {
     "data": {
      "text/html": [
       "<div>\n",
       "<style scoped>\n",
       "    .dataframe tbody tr th:only-of-type {\n",
       "        vertical-align: middle;\n",
       "    }\n",
       "\n",
       "    .dataframe tbody tr th {\n",
       "        vertical-align: top;\n",
       "    }\n",
       "\n",
       "    .dataframe thead th {\n",
       "        text-align: right;\n",
       "    }\n",
       "</style>\n",
       "<table border=\"1\" class=\"dataframe\">\n",
       "  <thead>\n",
       "    <tr style=\"text-align: right;\">\n",
       "      <th></th>\n",
       "      <th>date</th>\n",
       "      <th>Appliances</th>\n",
       "      <th>lights</th>\n",
       "      <th>T1</th>\n",
       "      <th>RH_1</th>\n",
       "      <th>T2</th>\n",
       "      <th>RH_2</th>\n",
       "      <th>T3</th>\n",
       "      <th>RH_3</th>\n",
       "      <th>T4</th>\n",
       "      <th>...</th>\n",
       "      <th>T9</th>\n",
       "      <th>RH_9</th>\n",
       "      <th>T_out</th>\n",
       "      <th>Press_mm_hg</th>\n",
       "      <th>RH_out</th>\n",
       "      <th>Windspeed</th>\n",
       "      <th>Visibility</th>\n",
       "      <th>Tdewpoint</th>\n",
       "      <th>rv1</th>\n",
       "      <th>rv2</th>\n",
       "    </tr>\n",
       "  </thead>\n",
       "  <tbody>\n",
       "    <tr>\n",
       "      <th>0</th>\n",
       "      <td>2016-01-11 17:00:00</td>\n",
       "      <td>60</td>\n",
       "      <td>30</td>\n",
       "      <td>19.89</td>\n",
       "      <td>47.596667</td>\n",
       "      <td>19.2</td>\n",
       "      <td>44.7900</td>\n",
       "      <td>19.79</td>\n",
       "      <td>44.73</td>\n",
       "      <td>19.0</td>\n",
       "      <td>...</td>\n",
       "      <td>17.033333</td>\n",
       "      <td>45.53</td>\n",
       "      <td>6.600000</td>\n",
       "      <td>733.5</td>\n",
       "      <td>92.0</td>\n",
       "      <td>7.000000</td>\n",
       "      <td>63.000000</td>\n",
       "      <td>5.3</td>\n",
       "      <td>13.275433</td>\n",
       "      <td>13.275433</td>\n",
       "    </tr>\n",
       "    <tr>\n",
       "      <th>1</th>\n",
       "      <td>2016-01-11 17:10:00</td>\n",
       "      <td>60</td>\n",
       "      <td>30</td>\n",
       "      <td>19.89</td>\n",
       "      <td>46.693333</td>\n",
       "      <td>19.2</td>\n",
       "      <td>44.7225</td>\n",
       "      <td>19.79</td>\n",
       "      <td>44.79</td>\n",
       "      <td>19.0</td>\n",
       "      <td>...</td>\n",
       "      <td>17.066667</td>\n",
       "      <td>45.56</td>\n",
       "      <td>6.483333</td>\n",
       "      <td>733.6</td>\n",
       "      <td>92.0</td>\n",
       "      <td>6.666667</td>\n",
       "      <td>59.166667</td>\n",
       "      <td>5.2</td>\n",
       "      <td>18.606195</td>\n",
       "      <td>18.606195</td>\n",
       "    </tr>\n",
       "  </tbody>\n",
       "</table>\n",
       "<p>2 rows × 29 columns</p>\n",
       "</div>"
      ],
      "text/plain": [
       "                  date  Appliances  lights     T1       RH_1    T2     RH_2  \\\n",
       "0  2016-01-11 17:00:00          60      30  19.89  47.596667  19.2  44.7900   \n",
       "1  2016-01-11 17:10:00          60      30  19.89  46.693333  19.2  44.7225   \n",
       "\n",
       "      T3   RH_3    T4  ...         T9   RH_9     T_out  Press_mm_hg  RH_out  \\\n",
       "0  19.79  44.73  19.0  ...  17.033333  45.53  6.600000        733.5    92.0   \n",
       "1  19.79  44.79  19.0  ...  17.066667  45.56  6.483333        733.6    92.0   \n",
       "\n",
       "   Windspeed  Visibility  Tdewpoint        rv1        rv2  \n",
       "0   7.000000   63.000000        5.3  13.275433  13.275433  \n",
       "1   6.666667   59.166667        5.2  18.606195  18.606195  \n",
       "\n",
       "[2 rows x 29 columns]"
      ]
     },
     "execution_count": 2,
     "metadata": {},
     "output_type": "execute_result"
    }
   ],
   "source": [
    "df = pd.read_csv('/Users/ISRAEL/Downloads/energydata_complete.csv')\n",
    "df.head(2)"
   ]
  },
  {
   "cell_type": "code",
   "execution_count": 3,
   "id": "81bd8715",
   "metadata": {},
   "outputs": [
    {
     "data": {
      "text/html": [
       "<div>\n",
       "<style scoped>\n",
       "    .dataframe tbody tr th:only-of-type {\n",
       "        vertical-align: middle;\n",
       "    }\n",
       "\n",
       "    .dataframe tbody tr th {\n",
       "        vertical-align: top;\n",
       "    }\n",
       "\n",
       "    .dataframe thead th {\n",
       "        text-align: right;\n",
       "    }\n",
       "</style>\n",
       "<table border=\"1\" class=\"dataframe\">\n",
       "  <thead>\n",
       "    <tr style=\"text-align: right;\">\n",
       "      <th></th>\n",
       "      <th>date</th>\n",
       "      <th>Appliances</th>\n",
       "      <th>lights</th>\n",
       "      <th>TempKitchen_area</th>\n",
       "      <th>HumidityKitchen_area</th>\n",
       "      <th>TempLiving_area</th>\n",
       "      <th>HumidityLiving_area</th>\n",
       "      <th>TempLaundry_room_area</th>\n",
       "      <th>HumidityLaundry_room_area</th>\n",
       "      <th>TempOffice_room</th>\n",
       "      <th>...</th>\n",
       "      <th>TempParents_room</th>\n",
       "      <th>HumidityParents_room</th>\n",
       "      <th>T_out</th>\n",
       "      <th>Press_mm_hg</th>\n",
       "      <th>RH_out</th>\n",
       "      <th>Windspeed</th>\n",
       "      <th>Visibility</th>\n",
       "      <th>Tdewpoint</th>\n",
       "      <th>rv1</th>\n",
       "      <th>rv2</th>\n",
       "    </tr>\n",
       "  </thead>\n",
       "  <tbody>\n",
       "    <tr>\n",
       "      <th>0</th>\n",
       "      <td>2016-01-11 17:00:00</td>\n",
       "      <td>60</td>\n",
       "      <td>30</td>\n",
       "      <td>19.89</td>\n",
       "      <td>47.596667</td>\n",
       "      <td>19.2</td>\n",
       "      <td>44.7900</td>\n",
       "      <td>19.79</td>\n",
       "      <td>44.73</td>\n",
       "      <td>19.0</td>\n",
       "      <td>...</td>\n",
       "      <td>17.033333</td>\n",
       "      <td>45.53</td>\n",
       "      <td>6.600000</td>\n",
       "      <td>733.5</td>\n",
       "      <td>92.0</td>\n",
       "      <td>7.000000</td>\n",
       "      <td>63.000000</td>\n",
       "      <td>5.3</td>\n",
       "      <td>13.275433</td>\n",
       "      <td>13.275433</td>\n",
       "    </tr>\n",
       "    <tr>\n",
       "      <th>1</th>\n",
       "      <td>2016-01-11 17:10:00</td>\n",
       "      <td>60</td>\n",
       "      <td>30</td>\n",
       "      <td>19.89</td>\n",
       "      <td>46.693333</td>\n",
       "      <td>19.2</td>\n",
       "      <td>44.7225</td>\n",
       "      <td>19.79</td>\n",
       "      <td>44.79</td>\n",
       "      <td>19.0</td>\n",
       "      <td>...</td>\n",
       "      <td>17.066667</td>\n",
       "      <td>45.56</td>\n",
       "      <td>6.483333</td>\n",
       "      <td>733.6</td>\n",
       "      <td>92.0</td>\n",
       "      <td>6.666667</td>\n",
       "      <td>59.166667</td>\n",
       "      <td>5.2</td>\n",
       "      <td>18.606195</td>\n",
       "      <td>18.606195</td>\n",
       "    </tr>\n",
       "  </tbody>\n",
       "</table>\n",
       "<p>2 rows × 29 columns</p>\n",
       "</div>"
      ],
      "text/plain": [
       "                  date  Appliances  lights  TempKitchen_area  \\\n",
       "0  2016-01-11 17:00:00          60      30             19.89   \n",
       "1  2016-01-11 17:10:00          60      30             19.89   \n",
       "\n",
       "   HumidityKitchen_area  TempLiving_area  HumidityLiving_area  \\\n",
       "0             47.596667             19.2              44.7900   \n",
       "1             46.693333             19.2              44.7225   \n",
       "\n",
       "   TempLaundry_room_area  HumidityLaundry_room_area  TempOffice_room  ...  \\\n",
       "0                  19.79                      44.73             19.0  ...   \n",
       "1                  19.79                      44.79             19.0  ...   \n",
       "\n",
       "   TempParents_room  HumidityParents_room     T_out  Press_mm_hg  RH_out  \\\n",
       "0         17.033333                 45.53  6.600000        733.5    92.0   \n",
       "1         17.066667                 45.56  6.483333        733.6    92.0   \n",
       "\n",
       "   Windspeed  Visibility  Tdewpoint        rv1        rv2  \n",
       "0   7.000000   63.000000        5.3  13.275433  13.275433  \n",
       "1   6.666667   59.166667        5.2  18.606195  18.606195  \n",
       "\n",
       "[2 rows x 29 columns]"
      ]
     },
     "execution_count": 3,
     "metadata": {},
     "output_type": "execute_result"
    }
   ],
   "source": [
    "# Renaming columns\n",
    "\n",
    "column_names={'T1':'TempKitchen_area', 'RH_1':'HumidityKitchen_area', 'T2':'TempLiving_area', 'RH_2':'HumidityLiving_area', 'T3':'TempLaundry_room_area', 'RH_3':'HumidityLaundry_room_area', 'T4':'TempOffice_room', 'RH_4':'HumidityOffice_room', 'T5':'TempBath_room', 'RH_5':'HumidityBath_room', 'T6':'TempOutside_building', 'RH_6':'HumidityOutside_building', 'T7':'TempIroning_room', 'RH_7':'HumidityIroning_room', 'T8':'TempTeenager_room', 'RH_8':'HumidityTeenager_room', 'T9':'TempParents_room', 'RH_9':'HumidityParents_room'}\n",
    "df = df.rename(columns=column_names)\n",
    "df.head(2)"
   ]
  },
  {
   "cell_type": "code",
   "execution_count": 4,
   "id": "d052ff52",
   "metadata": {},
   "outputs": [
    {
     "name": "stdout",
     "output_type": "stream",
     "text": [
      "0.64\n"
     ]
    }
   ],
   "source": [
    "# Question 12\n",
    "\n",
    "df_12 = df[['TempLiving_area', 'TempOutside_building']]\n",
    "\n",
    "from sklearn.linear_model import LinearRegression\n",
    "\n",
    "model = LinearRegression()\n",
    "\n",
    "model.fit(df_12[['TempLiving_area']], df_12[['TempOutside_building']])\n",
    "\n",
    "predicted = model.predict(df_12[['TempLiving_area']])\n",
    "\n",
    "\n",
    "from sklearn.metrics import r2_score\n",
    "\n",
    "Rsquared = r2_score(df_12[['TempOutside_building']], predicted)\n",
    "\n",
    "print(round(Rsquared, 2))"
   ]
  },
  {
   "cell_type": "code",
   "execution_count": 5,
   "id": "a3132f4e",
   "metadata": {},
   "outputs": [
    {
     "name": "stdout",
     "output_type": "stream",
     "text": [
      "[0.03322207 0.24411599 0.03400024 ... 0.06844707 0.10032325 0.05722198]\n"
     ]
    }
   ],
   "source": [
    "# Getting required columns\n",
    "df_dropped = df.drop(columns=['date', 'lights'])\n",
    "\n",
    "# Importing MinMaxScaler\n",
    "from sklearn.preprocessing import MinMaxScaler\n",
    "scaler = MinMaxScaler()\n",
    "scaled = pd.DataFrame(scaler.fit_transform(df_dropped), columns=df_dropped.columns)\n",
    "\n",
    "# Getting the independent and dependent variables\n",
    "predictors = scaled.drop(columns=['Appliances'])\n",
    "target = scaled['Appliances']\n",
    "\n",
    "# Splitting the data\n",
    "from sklearn.model_selection import train_test_split\n",
    "\n",
    "x_train, x_test, y_train, y_test = train_test_split(predictors, target, test_size=0.3, random_state=42)\n",
    "\n",
    "# Fitting into the model\n",
    "linear_model = LinearRegression()\n",
    "\n",
    "linear_model.fit(x_train, y_train)\n",
    "\n",
    "predicted_values = linear_model.predict(x_test)\n",
    "\n",
    "print(predicted_values)"
   ]
  },
  {
   "cell_type": "code",
   "execution_count": 6,
   "id": "15a9dbe2",
   "metadata": {},
   "outputs": [
    {
     "name": "stdout",
     "output_type": "stream",
     "text": [
      "0.05\n"
     ]
    }
   ],
   "source": [
    "# Question 13\n",
    "\n",
    "from sklearn.metrics import mean_absolute_error\n",
    "\n",
    "mae = mean_absolute_error(y_test, predicted_values)\n",
    "print(round(mae, 2))"
   ]
  },
  {
   "cell_type": "code",
   "execution_count": 7,
   "id": "cd9e9570",
   "metadata": {},
   "outputs": [
    {
     "name": "stdout",
     "output_type": "stream",
     "text": [
      "45.35\n"
     ]
    }
   ],
   "source": [
    "# Question 14\n",
    "\n",
    "rss = np.sum(np.square(y_test - predicted_values))\n",
    "print(round(rss, 2))"
   ]
  },
  {
   "cell_type": "code",
   "execution_count": 8,
   "id": "ba553aba",
   "metadata": {},
   "outputs": [
    {
     "name": "stdout",
     "output_type": "stream",
     "text": [
      "0.088\n"
     ]
    }
   ],
   "source": [
    "# Question 15\n",
    "\n",
    "from sklearn.metrics import mean_squared_error\n",
    "\n",
    "rmse = np.sqrt(mean_squared_error(y_test, predicted_values))\n",
    "\n",
    "print(round(rmse, 3))"
   ]
  },
  {
   "cell_type": "code",
   "execution_count": 9,
   "id": "13281894",
   "metadata": {},
   "outputs": [
    {
     "name": "stdout",
     "output_type": "stream",
     "text": [
      "0.15\n"
     ]
    }
   ],
   "source": [
    "# Question 16\n",
    "\n",
    "from sklearn.metrics import r2_score\n",
    "\n",
    "rsquared =  r2_score(y_test, predicted_values)\n",
    "print(round(rsquared, 2))"
   ]
  },
  {
   "cell_type": "code",
   "execution_count": 10,
   "id": "a286d9b0",
   "metadata": {},
   "outputs": [
    {
     "name": "stdout",
     "output_type": "stream",
     "text": [
      "              Features  Linear_Model_Weight\n",
      "0  HumidityLiving_area            -0.456698\n",
      "                Features  Linear_Model_Weight\n",
      "25  HumidityKitchen_area             0.553547\n"
     ]
    }
   ],
   "source": [
    "# Question 17\n",
    "\n",
    "def get_weights(model, feat, col_name):\n",
    "    weights = pd.Series(model.coef_, feat.columns).sort_values()\n",
    "    weights_df = pd.DataFrame(weights).reset_index()\n",
    "    weights_df.columns = ['Features', col_name]\n",
    "    weights_df[col_name].round(3)\n",
    "    return weights_df\n",
    "\n",
    "lmw = get_weights(linear_model, x_train, 'Linear_Model_Weight')\n",
    "\n",
    "print(lmw[(lmw['Linear_Model_Weight'] == lmw['Linear_Model_Weight'].min())])\n",
    "print(lmw[(lmw['Linear_Model_Weight'] == lmw['Linear_Model_Weight'].max())])\n"
   ]
  },
  {
   "cell_type": "code",
   "execution_count": 11,
   "id": "60076eaf",
   "metadata": {},
   "outputs": [
    {
     "name": "stdout",
     "output_type": "stream",
     "text": [
      "0.088\n"
     ]
    }
   ],
   "source": [
    "# Question 18\n",
    "\n",
    "from sklearn.linear_model import Ridge\n",
    "\n",
    "ridge_reg = Ridge(alpha=0.4)\n",
    "ridge_reg.fit(x_train, y_train)\n",
    "\n",
    "predicted_ridge = ridge_reg.predict(x_test)\n",
    "\n",
    "rmse_ridge = np.sqrt(mean_squared_error(y_test, predicted_ridge))\n",
    "print(round(rmse_ridge, 3))"
   ]
  },
  {
   "cell_type": "code",
   "execution_count": 18,
   "id": "cfa21d1a",
   "metadata": {},
   "outputs": [
    {
     "name": "stdout",
     "output_type": "stream",
     "text": [
      "[0.07370267 0.08143458 0.07716072 ... 0.07792848 0.09034412 0.08359255]\n",
      "                     Features  Linear_Model_Weight\n",
      "0                      RH_out            -0.049557\n",
      "1       HumidityTeenager_room            -0.000110\n",
      "2            TempKitchen_area             0.000000\n",
      "3                   Tdewpoint             0.000000\n",
      "4                  Visibility             0.000000\n",
      "5                 Press_mm_hg            -0.000000\n",
      "6                       T_out             0.000000\n",
      "7        HumidityParents_room            -0.000000\n",
      "8            TempParents_room            -0.000000\n",
      "9           TempTeenager_room             0.000000\n",
      "10       HumidityIroning_room            -0.000000\n",
      "11                        rv1            -0.000000\n",
      "12           TempIroning_room            -0.000000\n",
      "13       TempOutside_building             0.000000\n",
      "14          HumidityBath_room             0.000000\n",
      "15              TempBath_room            -0.000000\n",
      "16        HumidityOffice_room             0.000000\n",
      "17            TempOffice_room            -0.000000\n",
      "18  HumidityLaundry_room_area             0.000000\n",
      "19      TempLaundry_room_area             0.000000\n",
      "20        HumidityLiving_area            -0.000000\n",
      "21            TempLiving_area             0.000000\n",
      "22   HumidityOutside_building            -0.000000\n",
      "23                        rv2            -0.000000\n",
      "24                  Windspeed             0.002912\n",
      "25       HumidityKitchen_area             0.017880\n"
     ]
    }
   ],
   "source": [
    "# Question 19\n",
    "\n",
    "from sklearn.linear_model import Lasso\n",
    "\n",
    "lasso_reg = Lasso(alpha=0.001)\n",
    "lasso_reg.fit(x_train, y_train)\n",
    "\n",
    "predicted_lasso = lasso_reg.predict(x_test)\n",
    "print(predicted_lasso)\n",
    "\n",
    "def get_weights(model, feat, col_name):\n",
    "    weights = pd.Series(model.coef_, feat.columns).sort_values()\n",
    "    weights_df = pd.DataFrame(weights).reset_index()\n",
    "    weights_df.columns = ['Features', col_name]\n",
    "    weights_df[col_name].round(3)\n",
    "    return weights_df\n",
    "\n",
    "lmw_lasso = get_weights(lasso_reg, x_train, 'Linear_Model_Weight')\n",
    "\n",
    "print(lmw_lasso)"
   ]
  },
  {
   "cell_type": "code",
   "execution_count": 19,
   "id": "ce2d9fcf",
   "metadata": {},
   "outputs": [
    {
     "name": "stdout",
     "output_type": "stream",
     "text": [
      "0.094\n"
     ]
    }
   ],
   "source": [
    "# Question 20\n",
    "\n",
    "rmse_lasso = np.sqrt(mean_squared_error(y_test, predicted_lasso))\n",
    "print(round(rmse_lasso, 3))"
   ]
  }
 ],
 "metadata": {
  "kernelspec": {
   "display_name": "Python 3 (ipykernel)",
   "language": "python",
   "name": "python3"
  },
  "language_info": {
   "codemirror_mode": {
    "name": "ipython",
    "version": 3
   },
   "file_extension": ".py",
   "mimetype": "text/x-python",
   "name": "python",
   "nbconvert_exporter": "python",
   "pygments_lexer": "ipython3",
   "version": "3.9.7"
  }
 },
 "nbformat": 4,
 "nbformat_minor": 5
}
